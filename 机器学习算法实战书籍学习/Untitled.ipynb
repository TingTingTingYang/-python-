{
 "cells": [
  {
   "cell_type": "code",
   "execution_count": 8,
   "metadata": {},
   "outputs": [
    {
     "name": "stdout",
     "output_type": "stream",
     "text": [
      "Hour: 14\n",
      "Year: 2023\n",
      "Month: 10\n",
      "Day: 8\n",
      "current_time 2023-10-08 22:16:01.199112\n",
      "Days difference: 0\n",
      "Minutes difference: 472\n",
      "Seconds difference: 16\n"
     ]
    }
   ],
   "source": [
    "from datetime import datetime\n",
    "\n",
    "# 时间字符串\n",
    "time_str = \"2023-10-08 14:23:45\"\n",
    "\n",
    "# 将时间字符串转换为 datetime 对象\n",
    "time_obj = datetime.strptime(time_str, \"%Y-%m-%d %H:%M:%S\")\n",
    "\n",
    "# 提取小时、年、月、日\n",
    "hour = time_obj.hour\n",
    "year = time_obj.year\n",
    "month = time_obj.month\n",
    "day = time_obj.day\n",
    "\n",
    "# 计算距离现在的时间差\n",
    "current_time = datetime.now()\n",
    "time_diff = current_time - time_obj\n",
    "\n",
    "# 提取天数、秒数\n",
    "days = time_diff.days\n",
    "seconds = time_diff.seconds\n",
    "\n",
    "# 将秒数转换为分钟\n",
    "minutes = seconds // 60\n",
    "seconds = seconds % 60\n",
    "\n",
    "print(\"Hour:\", hour)\n",
    "print(\"Year:\", year)\n",
    "print(\"Month:\", month)\n",
    "print(\"Day:\", day)\n",
    "print(\"current_time\",current_time)\n",
    "print(\"Days difference:\", days)\n",
    "print(\"Minutes difference:\", minutes)\n",
    "print(\"Seconds difference:\", seconds)\n"
   ]
  },
  {
   "cell_type": "code",
   "execution_count": 10,
   "metadata": {},
   "outputs": [
    {
     "name": "stdout",
     "output_type": "stream",
     "text": [
      "Hour: 14\n",
      "Year: 2023\n",
      "Month: 10\n",
      "Day: 8\n",
      "Days difference: 0\n",
      "Minutes difference: 481\n",
      "Seconds difference: 28877\n"
     ]
    }
   ],
   "source": [
    "import pandas as pd\n",
    "\n",
    "# 时间字符串\n",
    "time_str = \"2023-10-08 14:23:45\"\n",
    "\n",
    "# 将时间字符串转换为 datetime 对象\n",
    "time_obj = pd.to_datetime(time_str)\n",
    "\n",
    "# 提取小时、年、月、日\n",
    "hour = time_obj.hour\n",
    "year = time_obj.year\n",
    "month = time_obj.month\n",
    "day = time_obj.day\n",
    "\n",
    "# 计算距离现在的时间差\n",
    "current_time = pd.Timestamp.now()\n",
    "time_diff = current_time - time_obj\n",
    "\n",
    "# 提取天数、秒数\n",
    "days = time_diff.days\n",
    "seconds = time_diff.seconds\n",
    "\n",
    "# 将秒数转换为分钟\n",
    "minutes = seconds // 60\n",
    "\n",
    "print(\"Hour:\", hour)\n",
    "print(\"Year:\", year)\n",
    "print(\"Month:\", month)\n",
    "print(\"Day:\", day)\n",
    "print(\"Days difference:\", days)\n",
    "print(\"Minutes difference:\", minutes)\n",
    "print(\"Seconds difference:\", seconds)\n"
   ]
  },
  {
   "cell_type": "code",
   "execution_count": null,
   "metadata": {},
   "outputs": [],
   "source": [
    "pd.to_datetime(time_str).d"
   ]
  },
  {
   "cell_type": "code",
   "execution_count": 6,
   "metadata": {},
   "outputs": [
    {
     "data": {
      "text/plain": [
       "8"
      ]
     },
     "execution_count": 6,
     "metadata": {},
     "output_type": "execute_result"
    }
   ],
   "source": [
    "time_obj.day"
   ]
  },
  {
   "cell_type": "code",
   "execution_count": null,
   "metadata": {},
   "outputs": [],
   "source": []
  },
  {
   "cell_type": "code",
   "execution_count": 5,
   "metadata": {},
   "outputs": [
    {
     "ename": "AttributeError",
     "evalue": "'Timestamp' object has no attribute 'dt'",
     "output_type": "error",
     "traceback": [
      "\u001b[1;31m---------------------------------------------------------------------------\u001b[0m",
      "\u001b[1;31mAttributeError\u001b[0m                            Traceback (most recent call last)",
      "\u001b[1;32m<ipython-input-5-957956eb9d8e>\u001b[0m in \u001b[0;36m<module>\u001b[1;34m\u001b[0m\n\u001b[1;32m----> 1\u001b[1;33m \u001b[0mtime_obj\u001b[0m\u001b[1;33m.\u001b[0m\u001b[0mdt\u001b[0m\u001b[1;33m.\u001b[0m\u001b[0mhour\u001b[0m\u001b[1;33m\u001b[0m\u001b[0m\n\u001b[0m",
      "\u001b[1;31mAttributeError\u001b[0m: 'Timestamp' object has no attribute 'dt'"
     ]
    }
   ],
   "source": [
    "time_obj.dt.hour"
   ]
  },
  {
   "cell_type": "code",
   "execution_count": null,
   "metadata": {},
   "outputs": [],
   "source": []
  }
 ],
 "metadata": {
  "kernelspec": {
   "display_name": "Python 3",
   "language": "python",
   "name": "python3"
  },
  "language_info": {
   "codemirror_mode": {
    "name": "ipython",
    "version": 3
   },
   "file_extension": ".py",
   "mimetype": "text/x-python",
   "name": "python",
   "nbconvert_exporter": "python",
   "pygments_lexer": "ipython3",
   "version": "3.6.5"
  }
 },
 "nbformat": 4,
 "nbformat_minor": 2
}
