{
 "cells": [
  {
   "cell_type": "markdown",
   "metadata": {},
   "source": [
    "# 使用 k 近邻算法改进网站的配对效果_my\n"
   ]
  },
  {
   "cell_type": "markdown",
   "metadata": {},
   "source": [
    "**说明：**\n",
    "\n",
    "将数据集文件 'datingTestSet2.txt' 放在当前文件夹"
   ]
  },
  {
   "cell_type": "code",
   "execution_count": 1,
   "metadata": {},
   "outputs": [],
   "source": [
    "import numpy as np\n",
    "def file2Matrix(filename):\n",
    "    mat_list=[]\n",
    "    label_list=[]\n",
    "    \n",
    "    with open(filename,'r') as f:\n",
    "        for line in f.readlines():\n",
    "            mat_list.append(line.split('\\t')[:3])\n",
    "            label_list.append(line.split('\\t')[-1].strip())#stip默认是删除首尾的换行符和空格\n",
    "    returnMat = np.zeros((len(mat_list), 3))\n",
    "    for i in range(len(mat_list)):\n",
    "        returnMat[i,:]=mat_list[i]  #这样做一层转换，mat_list中的字符类型就转为float类型了\n",
    "    classlabelvector=label_list\n",
    "            \n",
    "    \n",
    "    return returnMat,classlabelvector"
   ]
  },
  {
   "cell_type": "code",
   "execution_count": 2,
   "metadata": {},
   "outputs": [],
   "source": [
    "filename='datingTestSet2.txt'\n",
    "mat,classlabelvector=file2Matrix(filename)"
   ]
  },
  {
   "cell_type": "code",
   "execution_count": 3,
   "metadata": {},
   "outputs": [
    {
     "data": {
      "text/plain": [
       "1000"
      ]
     },
     "execution_count": 3,
     "metadata": {},
     "output_type": "execute_result"
    }
   ],
   "source": [
    "len(classlabelvector)"
   ]
  },
  {
   "cell_type": "markdown",
   "metadata": {},
   "source": [
    "### 数据归一化  最大最小归一化\n"
   ]
  },
  {
   "cell_type": "markdown",
   "metadata": {},
   "source": [
    "#### 方法一 自定义归一化函数"
   ]
  },
  {
   "cell_type": "code",
   "execution_count": 4,
   "metadata": {},
   "outputs": [
    {
     "data": {
      "text/plain": [
       "(1000, 3)"
      ]
     },
     "execution_count": 4,
     "metadata": {},
     "output_type": "execute_result"
    }
   ],
   "source": [
    "mat.shape"
   ]
  },
  {
   "cell_type": "code",
   "execution_count": 58,
   "metadata": {},
   "outputs": [],
   "source": [
    "def my_minmax(arr):\n",
    "    min_=np.min(arr,axis=0).reshape(-1,3) #选每一列的最小值\n",
    "    max_=np.max(arr,axis=0).reshape(-1,3)#选每一列的最大值，因为每一列是一个特征\n",
    "    vector=(arr-np.tile(min_,(arr.shape[0],1)))/np.tile((max_-min_),(arr.shape[0],1))\n",
    "    # np中，第一维一般是操作列，比如tile是使列增加。第二维是增加行。\n",
    "    ## tile(x,2)，是使列复制两倍\n",
    "    ### tile(x,(2,3))则是先使列复制3倍，再使行复制为原来的两倍\n",
    "    ## 此函数中，是列不变，使得行复制为和arr一样的数量，这样就能够比较方便相减了。\n",
    "    return min_,max_,vector"
   ]
  },
  {
   "cell_type": "code",
   "execution_count": 10,
   "metadata": {},
   "outputs": [],
   "source": [
    "def my_minmax(arr):\n",
    "    min_=arr.min(axis=0) #选每一列的最小值\n",
    "    max_=arr.max(axis=0)#选每一列的最大值，因为每一列是一个特征\n",
    "    val_range=max_-min_\n",
    "    vector=(arr-np.tile(min_,(arr.shape[0],1)))/np.tile(val_range,(arr.shape[0],1))\n",
    "    # np中，第一维一般是操作列，比如tile是使列增加。第二维是增加行。\n",
    "    ## tile(x,2)，是使列复制两倍\n",
    "    ### tile(x,(2,3))则是先使列复制3倍，再使行复制为原来的两倍\n",
    "    ## 此函数中，是列不变，使得行复制为和arr一样的数量，这样就能够比较方便相减了。\n",
    "    return min_,max_,vector"
   ]
  },
  {
   "cell_type": "code",
   "execution_count": 8,
   "metadata": {},
   "outputs": [],
   "source": [
    "min_,max_,vector_arr=my_minmax(mat)"
   ]
  },
  {
   "cell_type": "code",
   "execution_count": 12,
   "metadata": {},
   "outputs": [
    {
     "data": {
      "text/plain": [
       "(1000, 3)"
      ]
     },
     "execution_count": 12,
     "metadata": {},
     "output_type": "execute_result"
    }
   ],
   "source": [
    "mat.shape"
   ]
  },
  {
   "cell_type": "code",
   "execution_count": 13,
   "metadata": {},
   "outputs": [
    {
     "data": {
      "text/plain": [
       "3"
      ]
     },
     "execution_count": 13,
     "metadata": {},
     "output_type": "execute_result"
    }
   ],
   "source": [
    "min_.shape[0]"
   ]
  },
  {
   "cell_type": "code",
   "execution_count": 16,
   "metadata": {},
   "outputs": [
    {
     "data": {
      "text/plain": [
       "array([[0.      , 0.      , 0.001156],\n",
       "       [0.      , 0.      , 0.001156],\n",
       "       [0.      , 0.      , 0.001156],\n",
       "       [0.      , 0.      , 0.001156],\n",
       "       [0.      , 0.      , 0.001156]])"
      ]
     },
     "execution_count": 16,
     "metadata": {},
     "output_type": "execute_result"
    }
   ],
   "source": [
    "np.tile(min_,(5,1))"
   ]
  },
  {
   "cell_type": "code",
   "execution_count": 9,
   "metadata": {},
   "outputs": [
    {
     "data": {
      "text/plain": [
       "(1000, 3)"
      ]
     },
     "execution_count": 9,
     "metadata": {},
     "output_type": "execute_result"
    }
   ],
   "source": [
    "vector_arr.shape"
   ]
  },
  {
   "cell_type": "code",
   "execution_count": 61,
   "metadata": {},
   "outputs": [
    {
     "data": {
      "text/plain": [
       "array([[0.44832535, 0.39805139, 0.56233353],\n",
       "       [0.15873259, 0.34195467, 0.98724416],\n",
       "       [0.28542943, 0.06892523, 0.47449629],\n",
       "       ...,\n",
       "       [0.29115949, 0.50910294, 0.51079493],\n",
       "       [0.52711097, 0.43665451, 0.4290048 ],\n",
       "       [0.47940793, 0.3768091 , 0.78571804]])"
      ]
     },
     "execution_count": 61,
     "metadata": {},
     "output_type": "execute_result"
    }
   ],
   "source": [
    "vector_arr"
   ]
  },
  {
   "cell_type": "code",
   "execution_count": null,
   "metadata": {},
   "outputs": [],
   "source": []
  }
 ],
 "metadata": {
  "kernelspec": {
   "display_name": "Python 3",
   "language": "python",
   "name": "python3"
  },
  "language_info": {
   "codemirror_mode": {
    "name": "ipython",
    "version": 3
   },
   "file_extension": ".py",
   "mimetype": "text/x-python",
   "name": "python",
   "nbconvert_exporter": "python",
   "pygments_lexer": "ipython3",
   "version": "3.6.5"
  }
 },
 "nbformat": 4,
 "nbformat_minor": 2
}
