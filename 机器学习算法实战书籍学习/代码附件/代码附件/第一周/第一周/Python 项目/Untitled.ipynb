{
 "cells": [
  {
   "cell_type": "code",
   "execution_count": 1,
   "metadata": {},
   "outputs": [],
   "source": [
    "import pandas as pd\n",
    "\n",
    "data = {\n",
    "    'Student': ['Alice', 'Bob', 'Charlie', 'David', 'Eve'],\n",
    "    'Score': [90, 90, 89, 70, 90]\n",
    "}\n",
    "\n",
    "df = pd.DataFrame(data)"
   ]
  },
  {
   "cell_type": "code",
   "execution_count": 2,
   "metadata": {},
   "outputs": [
    {
     "name": "stdout",
     "output_type": "stream",
     "text": [
      "   Student  Score  Rank_min  Rank_dense\n",
      "0    Alice     90       1.0         1.0\n",
      "1      Bob     90       1.0         1.0\n",
      "2  Charlie     89       4.0         2.0\n",
      "3    David     70       5.0         3.0\n",
      "4      Eve     90       1.0         1.0\n"
     ]
    }
   ],
   "source": [
    "# 按分数降序排名，使用 'min' 方法\n",
    "df['Rank_min'] = df['Score'].rank(ascending=False, method='min')\n",
    "\n",
    "# 按分数降序排名，使用 'dense' 方法\n",
    "df['Rank_dense'] = df['Score'].rank(ascending=False, method='dense')\n",
    "\n",
    "# 打印结果\n",
    "print(df)"
   ]
  },
  {
   "cell_type": "code",
   "execution_count": null,
   "metadata": {},
   "outputs": [],
   "source": []
  }
 ],
 "metadata": {
  "kernelspec": {
   "display_name": "Python 3",
   "language": "python",
   "name": "python3"
  },
  "language_info": {
   "codemirror_mode": {
    "name": "ipython",
    "version": 3
   },
   "file_extension": ".py",
   "mimetype": "text/x-python",
   "name": "python",
   "nbconvert_exporter": "python",
   "pygments_lexer": "ipython3",
   "version": "3.6.5"
  }
 },
 "nbformat": 4,
 "nbformat_minor": 2
}
