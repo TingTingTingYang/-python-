{
 "cells": [
  {
   "cell_type": "code",
   "execution_count": 6,
   "metadata": {},
   "outputs": [
    {
     "name": "stdout",
     "output_type": "stream",
     "text": [
      "Using matplotlib backend: Qt5Agg\n"
     ]
    }
   ],
   "source": [
    "#%matplotlib inline\n",
    "%matplotlib"
   ]
  },
  {
   "cell_type": "code",
   "execution_count": 1,
   "metadata": {},
   "outputs": [],
   "source": [
    "import pandas as pd"
   ]
  },
  {
   "cell_type": "code",
   "execution_count": 2,
   "metadata": {},
   "outputs": [],
   "source": [
    "data=pd.read_excel('./data/hisdata.xlsx')"
   ]
  },
  {
   "cell_type": "code",
   "execution_count": 3,
   "metadata": {},
   "outputs": [
    {
     "data": {
      "text/html": [
       "<div>\n",
       "<style scoped>\n",
       "    .dataframe tbody tr th:only-of-type {\n",
       "        vertical-align: middle;\n",
       "    }\n",
       "\n",
       "    .dataframe tbody tr th {\n",
       "        vertical-align: top;\n",
       "    }\n",
       "\n",
       "    .dataframe thead th {\n",
       "        text-align: right;\n",
       "    }\n",
       "</style>\n",
       "<table border=\"1\" class=\"dataframe\">\n",
       "  <thead>\n",
       "    <tr style=\"text-align: right;\">\n",
       "      <th></th>\n",
       "      <th>Frequncy</th>\n",
       "      <th>S11</th>\n",
       "      <th>Unnamed: 2</th>\n",
       "      <th>Pin Data</th>\n",
       "      <th>Unnamed: 4</th>\n",
       "      <th>Pout Data</th>\n",
       "      <th>Unnamed: 6</th>\n",
       "      <th>S21</th>\n",
       "      <th>Unnamed: 8</th>\n",
       "      <th>Delta Gain</th>\n",
       "      <th>Unnamed: 10</th>\n",
       "      <th>AI1</th>\n",
       "      <th>AI2</th>\n",
       "    </tr>\n",
       "  </thead>\n",
       "  <tbody>\n",
       "    <tr>\n",
       "      <th>0</th>\n",
       "      <td>2000000000</td>\n",
       "      <td>-0.095366</td>\n",
       "      <td>-18.296985</td>\n",
       "      <td>-10.378778</td>\n",
       "      <td>-122.698459</td>\n",
       "      <td>4.173073</td>\n",
       "      <td>42.657874</td>\n",
       "      <td>14.826614</td>\n",
       "      <td>165.554401</td>\n",
       "      <td>-0.274763</td>\n",
       "      <td>-0.198068</td>\n",
       "      <td>0</td>\n",
       "      <td>0</td>\n",
       "    </tr>\n",
       "    <tr>\n",
       "      <th>1</th>\n",
       "      <td>2000000000</td>\n",
       "      <td>-0.095366</td>\n",
       "      <td>-18.296985</td>\n",
       "      <td>-9.871502</td>\n",
       "      <td>-122.221557</td>\n",
       "      <td>4.645381</td>\n",
       "      <td>43.118225</td>\n",
       "      <td>14.826614</td>\n",
       "      <td>165.554401</td>\n",
       "      <td>-0.309731</td>\n",
       "      <td>-0.214619</td>\n",
       "      <td>0</td>\n",
       "      <td>0</td>\n",
       "    </tr>\n",
       "    <tr>\n",
       "      <th>2</th>\n",
       "      <td>2000000000</td>\n",
       "      <td>-0.095366</td>\n",
       "      <td>-18.296985</td>\n",
       "      <td>-9.362414</td>\n",
       "      <td>-121.675144</td>\n",
       "      <td>5.132022</td>\n",
       "      <td>43.651512</td>\n",
       "      <td>14.826614</td>\n",
       "      <td>165.554401</td>\n",
       "      <td>-0.332179</td>\n",
       "      <td>-0.227746</td>\n",
       "      <td>0</td>\n",
       "      <td>0</td>\n",
       "    </tr>\n",
       "    <tr>\n",
       "      <th>3</th>\n",
       "      <td>2000000000</td>\n",
       "      <td>-0.095366</td>\n",
       "      <td>-18.296985</td>\n",
       "      <td>-8.853709</td>\n",
       "      <td>-121.080399</td>\n",
       "      <td>5.575672</td>\n",
       "      <td>44.226041</td>\n",
       "      <td>14.826614</td>\n",
       "      <td>165.554401</td>\n",
       "      <td>-0.397233</td>\n",
       "      <td>-0.247961</td>\n",
       "      <td>0</td>\n",
       "      <td>0</td>\n",
       "    </tr>\n",
       "    <tr>\n",
       "      <th>4</th>\n",
       "      <td>2000000000</td>\n",
       "      <td>-0.095366</td>\n",
       "      <td>-18.296985</td>\n",
       "      <td>-8.343059</td>\n",
       "      <td>-120.494485</td>\n",
       "      <td>6.042482</td>\n",
       "      <td>44.788665</td>\n",
       "      <td>14.826614</td>\n",
       "      <td>165.554401</td>\n",
       "      <td>-0.441073</td>\n",
       "      <td>-0.271251</td>\n",
       "      <td>0</td>\n",
       "      <td>0</td>\n",
       "    </tr>\n",
       "  </tbody>\n",
       "</table>\n",
       "</div>"
      ],
      "text/plain": [
       "     Frequncy       S11  Unnamed: 2   Pin Data  Unnamed: 4  Pout Data  \\\n",
       "0  2000000000 -0.095366  -18.296985 -10.378778 -122.698459   4.173073   \n",
       "1  2000000000 -0.095366  -18.296985  -9.871502 -122.221557   4.645381   \n",
       "2  2000000000 -0.095366  -18.296985  -9.362414 -121.675144   5.132022   \n",
       "3  2000000000 -0.095366  -18.296985  -8.853709 -121.080399   5.575672   \n",
       "4  2000000000 -0.095366  -18.296985  -8.343059 -120.494485   6.042482   \n",
       "\n",
       "   Unnamed: 6        S21  Unnamed: 8  Delta Gain  Unnamed: 10  AI1  AI2  \n",
       "0   42.657874  14.826614  165.554401   -0.274763    -0.198068    0    0  \n",
       "1   43.118225  14.826614  165.554401   -0.309731    -0.214619    0    0  \n",
       "2   43.651512  14.826614  165.554401   -0.332179    -0.227746    0    0  \n",
       "3   44.226041  14.826614  165.554401   -0.397233    -0.247961    0    0  \n",
       "4   44.788665  14.826614  165.554401   -0.441073    -0.271251    0    0  "
      ]
     },
     "execution_count": 3,
     "metadata": {},
     "output_type": "execute_result"
    }
   ],
   "source": [
    "data.head()"
   ]
  },
  {
   "cell_type": "code",
   "execution_count": 4,
   "metadata": {},
   "outputs": [
    {
     "data": {
      "text/plain": [
       "array([2000000000, 2040000000, 2080000000, 2120000000, 2160000000,\n",
       "       2200000000, 2240000000, 2280000000, 2320000000, 2360000000,\n",
       "       2400000000, 2440000000, 2480000000, 2520000000, 2560000000,\n",
       "       2600000000, 2640000000, 2680000000, 2720000000, 2760000000,\n",
       "       2800000000, 2840000000, 2880000000, 2920000000, 2960000000,\n",
       "       3000000000, 3040000000, 3080000000, 3120000000, 3160000000,\n",
       "       3200000000, 3240000000, 3280000000, 3320000000, 3360000000,\n",
       "       3400000000, 3440000000, 3480000000, 3520000000, 3560000000,\n",
       "       3600000000, 3640000000, 3680000000, 3720000000, 3760000000,\n",
       "       3800000000, 3840000000, 3880000000, 3920000000, 3960000000,\n",
       "       4000000000, 4040000000, 4080000000, 4120000000, 4160000000,\n",
       "       4200000000, 4240000000, 4280000000, 4320000000, 4360000000,\n",
       "       4400000000, 4440000000, 4480000000, 4520000000, 4560000000,\n",
       "       4600000000, 4640000000, 4680000000, 4720000000, 4760000000,\n",
       "       4800000000, 4840000000, 4880000000, 4920000000, 4960000000,\n",
       "       5000000000, 5040000000, 5080000000, 5120000000, 5160000000,\n",
       "       5200000000, 5240000000, 5280000000, 5320000000, 5360000000,\n",
       "       5400000000, 5440000000, 5480000000, 5520000000, 5560000000,\n",
       "       5600000000, 5640000000, 5680000000, 5720000000, 5760000000,\n",
       "       5800000000, 5840000000, 5880000000, 5920000000, 5960000000,\n",
       "       6000000000], dtype=int64)"
      ]
     },
     "execution_count": 4,
     "metadata": {},
     "output_type": "execute_result"
    }
   ],
   "source": [
    "data['Frequncy'].unique()"
   ]
  },
  {
   "cell_type": "code",
   "execution_count": 5,
   "metadata": {},
   "outputs": [],
   "source": [
    "mini_data=data[data['Frequncy']==2000000000].copy()"
   ]
  },
  {
   "cell_type": "code",
   "execution_count": 6,
   "metadata": {},
   "outputs": [
    {
     "data": {
      "text/plain": [
       "(30, 13)"
      ]
     },
     "execution_count": 6,
     "metadata": {},
     "output_type": "execute_result"
    }
   ],
   "source": [
    "mini_data.shape"
   ]
  },
  {
   "cell_type": "code",
   "execution_count": 7,
   "metadata": {},
   "outputs": [
    {
     "data": {
      "text/plain": [
       "<matplotlib.collections.PathCollection at 0x22023f67cc0>"
      ]
     },
     "execution_count": 7,
     "metadata": {},
     "output_type": "execute_result"
    }
   ],
   "source": [
    "import matplotlib.pyplot as plt\n",
    "plt.scatter(mini_data['Pin Data'].values,mini_data['Delta Gain'].values)"
   ]
  },
  {
   "cell_type": "code",
   "execution_count": 8,
   "metadata": {},
   "outputs": [
    {
     "data": {
      "text/plain": [
       "array([2000000000, 2040000000, 2080000000, 2120000000, 2160000000,\n",
       "       2200000000, 2240000000, 2280000000, 2320000000, 2360000000,\n",
       "       2400000000, 2440000000, 2480000000, 2520000000, 2560000000,\n",
       "       2600000000, 2640000000, 2680000000, 2720000000, 2760000000,\n",
       "       2800000000, 2840000000, 2880000000, 2920000000, 2960000000,\n",
       "       3000000000, 3040000000, 3080000000, 3120000000, 3160000000,\n",
       "       3200000000, 3240000000, 3280000000, 3320000000, 3360000000,\n",
       "       3400000000, 3440000000, 3480000000, 3520000000, 3560000000,\n",
       "       3600000000, 3640000000, 3680000000, 3720000000, 3760000000,\n",
       "       3800000000, 3840000000, 3880000000, 3920000000, 3960000000,\n",
       "       4000000000, 4040000000, 4080000000, 4120000000, 4160000000,\n",
       "       4200000000, 4240000000, 4280000000, 4320000000, 4360000000,\n",
       "       4400000000, 4440000000, 4480000000, 4520000000, 4560000000,\n",
       "       4600000000, 4640000000, 4680000000, 4720000000, 4760000000,\n",
       "       4800000000, 4840000000, 4880000000, 4920000000, 4960000000,\n",
       "       5000000000, 5040000000, 5080000000, 5120000000, 5160000000,\n",
       "       5200000000, 5240000000, 5280000000, 5320000000, 5360000000,\n",
       "       5400000000, 5440000000, 5480000000, 5520000000, 5560000000,\n",
       "       5600000000, 5640000000, 5680000000, 5720000000, 5760000000,\n",
       "       5800000000, 5840000000, 5880000000, 5920000000, 5960000000,\n",
       "       6000000000], dtype=int64)"
      ]
     },
     "execution_count": 8,
     "metadata": {},
     "output_type": "execute_result"
    }
   ],
   "source": [
    "data['Frequncy'].unique()"
   ]
  },
  {
   "cell_type": "code",
   "execution_count": 9,
   "metadata": {
    "collapsed": true
   },
   "outputs": [
    {
     "data": {
      "image/png": "[encoded data removed]",
      "text/plain": [
       "<Figure size 432x648 with 1 Axes>"
      ]
     },
     "metadata": {},
     "output_type": "display_data"
    }
   ],
   "source": [
    "import matplotlib.pyplot as plt\n",
    "import matplotlib\n",
    "plt.figure(figsize=(6,9))\n",
    "labels = ['a','b','c','d','e','f','g','h','i','j','k']\n",
    "sizes = [4552687,4002260,3797293,913484,39571,864706,413259,35799,100073,18487,1059]\n",
    "cmap=[plt.cm.Paired(1),plt.cm.Paired(6),plt.cm.Paired(2),plt.cm.Paired(3),plt.cm.Paired(4),plt.cm.Paired(5),plt.cm.Paired(0),plt.cm.Paired(7),plt.cm.Paired(8),plt.cm.Paired(9),plt.cm.Paired(10)]\n",
    "plt.pie(sizes,labels=labels,colors= cmap,startangle =90,shadow = False) \n",
    "plt.legend()\n",
    "plt.axis('equal')\n",
    "plt.show()\n"
   ]
  },
  {
   "cell_type": "code",
   "execution_count": 13,
   "metadata": {},
   "outputs": [],
   "source": [
    "cnames = {\n",
    "'aliceblue':            '#F0F8FF',\n",
    "'antiquewhite':         '#FAEBD7',\n",
    "'aqua':                 '#00FFFF',\n",
    "'aquamarine':           '#7FFFD4',\n",
    "'azure':                '#F0FFFF',\n",
    "'beige':                '#F5F5DC',\n",
    "'bisque':               '#FFE4C4',\n",
    "'black':                '#000000',\n",
    "'blanchedalmond':       '#FFEBCD',\n",
    "'blue':                 '#0000FF',\n",
    "'blueviolet':           '#8A2BE2',\n",
    "'brown':                '#A52A2A',\n",
    "'burlywood':            '#DEB887',\n",
    "'cadetblue':            '#5F9EA0',\n",
    "'chartreuse':           '#7FFF00',\n",
    "'chocolate':            '#D2691E',\n",
    "'coral':                '#FF7F50',\n",
    "'cornflowerblue':       '#6495ED',\n",
    "'cornsilk':             '#FFF8DC',\n",
    "'crimson':              '#DC143C',\n",
    "'cyan':                 '#00FFFF',\n",
    "'darkblue':             '#00008B',\n",
    "'darkcyan':             '#008B8B',\n",
    "'darkgoldenrod':        '#B8860B',\n",
    "'darkgray':             '#A9A9A9',\n",
    "'darkgreen':            '#006400',\n",
    "'darkkhaki':            '#BDB76B',\n",
    "'darkmagenta':          '#8B008B',\n",
    "'darkolivegreen':       '#556B2F',\n",
    "'darkorange':           '#FF8C00',\n",
    "'darkorchid':           '#9932CC',\n",
    "'darkred':              '#8B0000',\n",
    "'darksalmon':           '#E9967A',\n",
    "'darkseagreen':         '#8FBC8F',\n",
    "'darkslateblue':        '#483D8B',\n",
    "'darkslategray':        '#2F4F4F',\n",
    "'darkturquoise':        '#00CED1',\n",
    "'darkviolet':           '#9400D3',\n",
    "'deeppink':             '#FF1493',\n",
    "'deepskyblue':          '#00BFFF',\n",
    "'dimgray':              '#696969',\n",
    "'dodgerblue':           '#1E90FF',\n",
    "'firebrick':            '#B22222',\n",
    "'floralwhite':          '#FFFAF0',\n",
    "'forestgreen':          '#228B22',\n",
    "'fuchsia':              '#FF00FF',\n",
    "'gainsboro':            '#DCDCDC',\n",
    "'ghostwhite':           '#F8F8FF',\n",
    "'gold':                 '#FFD700',\n",
    "'goldenrod':            '#DAA520',\n",
    "'gray':                 '#808080',\n",
    "'green':                '#008000',\n",
    "'greenyellow':          '#ADFF2F',\n",
    "'honeydew':             '#F0FFF0',\n",
    "'hotpink':              '#FF69B4',\n",
    "'indianred':            '#CD5C5C',\n",
    "'indigo':               '#4B0082',\n",
    "'ivory':                '#FFFFF0',\n",
    "'khaki':                '#F0E68C',\n",
    "'lavender':             '#E6E6FA',\n",
    "'lavenderblush':        '#FFF0F5',\n",
    "'lawngreen':            '#7CFC00',\n",
    "'lemonchiffon':         '#FFFACD',\n",
    "'lightblue':            '#ADD8E6',\n",
    "'lightcoral':           '#F08080',\n",
    "'lightcyan':            '#E0FFFF',\n",
    "'lightgoldenrodyellow': '#FAFAD2',\n",
    "'lightgreen':           '#90EE90',\n",
    "'lightgray':            '#D3D3D3',\n",
    "'lightpink':            '#FFB6C1',\n",
    "'lightsalmon':          '#FFA07A',\n",
    "'lightseagreen':        '#20B2AA',\n",
    "'lightskyblue':         '#87CEFA',\n",
    "'lightslategray':       '#778899',\n",
    "'lightsteelblue':       '#B0C4DE',\n",
    "'lightyellow':          '#FFFFE0',\n",
    "'lime':                 '#00FF00',\n",
    "'limegreen':            '#32CD32',\n",
    "'linen':                '#FAF0E6',\n",
    "'magenta':              '#FF00FF',\n",
    "'maroon':               '#800000',\n",
    "'mediumaquamarine':     '#66CDAA',\n",
    "'mediumblue':           '#0000CD',\n",
    "'mediumorchid':         '#BA55D3',\n",
    "'mediumpurple':         '#9370DB',\n",
    "'mediumseagreen':       '#3CB371',\n",
    "'mediumslateblue':      '#7B68EE',\n",
    "'mediumspringgreen':    '#00FA9A',\n",
    "'mediumturquoise':      '#48D1CC',\n",
    "'mediumvioletred':      '#C71585',\n",
    "'midnightblue':         '#191970',\n",
    "'mintcream':            '#F5FFFA',\n",
    "'mistyrose':            '#FFE4E1',\n",
    "'moccasin':             '#FFE4B5',\n",
    "'navajowhite':          '#FFDEAD',\n",
    "'navy':                 '#000080',\n",
    "'oldlace':              '#FDF5E6',\n",
    "'olive':                '#808000',\n",
    "'olivedrab':            '#6B8E23',\n",
    "'orange':               '#FFA500',\n",
    "'orangered':            '#FF4500',\n",
    "'orchid':               '#DA70D6',\n",
    "'palegoldenrod':        '#EEE8AA',\n",
    "'palegreen':            '#98FB98',\n",
    "'paleturquoise':        '#AFEEEE',\n",
    "'palevioletred':        '#DB7093',\n",
    "'papayawhip':           '#FFEFD5',\n",
    "'peachpuff':            '#FFDAB9',\n",
    "'peru':                 '#CD853F',\n",
    "'pink':                 '#FFC0CB',\n",
    "'plum':                 '#DDA0DD',\n",
    "'powderblue':           '#B0E0E6',\n",
    "'purple':               '#800080',\n",
    "'red':                  '#FF0000',\n",
    "'rosybrown':            '#BC8F8F',\n",
    "'royalblue':            '#4169E1',\n",
    "'saddlebrown':          '#8B4513',\n",
    "'salmon':               '#FA8072',\n",
    "'sandybrown':           '#FAA460',\n",
    "'seagreen':             '#2E8B57',\n",
    "'seashell':             '#FFF5EE',\n",
    "'sienna':               '#A0522D',\n",
    "'silver':               '#C0C0C0',\n",
    "'skyblue':              '#87CEEB',\n",
    "'slateblue':            '#6A5ACD',\n",
    "'slategray':            '#708090',\n",
    "'snow':                 '#FFFAFA',\n",
    "'springgreen':          '#00FF7F',\n",
    "'steelblue':            '#4682B4',\n",
    "'tan':                  '#D2B48C',\n",
    "'teal':                 '#008080',\n",
    "'thistle':              '#D8BFD8',\n",
    "'tomato':               '#FF6347',\n",
    "'turquoise':            '#40E0D0',\n",
    "'violet':               '#EE82EE',\n",
    "'wheat':                '#F5DEB3',\n",
    "'white':                '#FFFFFF',\n",
    "'whitesmoke':           '#F5F5F5',\n",
    "'yellow':               '#FFFF00',\n",
    "'yellowgreen':          '#9ACD32'}"
   ]
  },
  {
   "cell_type": "code",
   "execution_count": 27,
   "metadata": {},
   "outputs": [],
   "source": [
    "colors=list(cnames.keys())"
   ]
  },
  {
   "cell_type": "code",
   "execution_count": 12,
   "metadata": {},
   "outputs": [
    {
     "data": {
      "text/plain": [
       "(0.12156862745098039, 0.47058823529411764, 0.7058823529411765, 1.0)"
      ]
     },
     "execution_count": 12,
     "metadata": {},
     "output_type": "execute_result"
    }
   ],
   "source": [
    "plt.cm.Paired(1)"
   ]
  },
  {
   "cell_type": "code",
   "execution_count": 18,
   "metadata": {},
   "outputs": [
    {
     "ename": "AttributeError",
     "evalue": "module 'matplotlib' has no attribute 'color'",
     "output_type": "error",
     "traceback": [
      "\u001b[1;31m---------------------------------------------------------------------------\u001b[0m",
      "\u001b[1;31mAttributeError\u001b[0m                            Traceback (most recent call last)",
      "\u001b[1;32m<ipython-input-18-7a9ce1abd573>\u001b[0m in \u001b[0;36m<module>\u001b[1;34m()\u001b[0m\n\u001b[1;32m----> 1\u001b[1;33m \u001b[0mcolors\u001b[0m\u001b[1;33m=\u001b[0m\u001b[0mdir\u001b[0m\u001b[1;33m(\u001b[0m\u001b[0mmatplotlib\u001b[0m\u001b[1;33m.\u001b[0m\u001b[0mcolor\u001b[0m\u001b[1;33m)\u001b[0m\u001b[1;33m\u001b[0m\u001b[0m\n\u001b[0m",
      "\u001b[1;31mAttributeError\u001b[0m: module 'matplotlib' has no attribute 'color'"
     ]
    }
   ],
   "source": [
    "colors=dir(matplotlib.color)"
   ]
  },
  {
   "cell_type": "code",
   "execution_count": 28,
   "metadata": {
    "collapsed": true
   },
   "outputs": [
    {
     "data": {
      "text/plain": [
       "['aliceblue',\n",
       " 'antiquewhite',\n",
       " 'aqua',\n",
       " 'aquamarine',\n",
       " 'azure',\n",
       " 'beige',\n",
       " 'bisque',\n",
       " 'black',\n",
       " 'blanchedalmond',\n",
       " 'blue',\n",
       " 'blueviolet',\n",
       " 'brown',\n",
       " 'burlywood',\n",
       " 'cadetblue',\n",
       " 'chartreuse',\n",
       " 'chocolate',\n",
       " 'coral',\n",
       " 'cornflowerblue',\n",
       " 'cornsilk',\n",
       " 'crimson',\n",
       " 'cyan',\n",
       " 'darkblue',\n",
       " 'darkcyan',\n",
       " 'darkgoldenrod',\n",
       " 'darkgray',\n",
       " 'darkgreen',\n",
       " 'darkkhaki',\n",
       " 'darkmagenta',\n",
       " 'darkolivegreen',\n",
       " 'darkorange',\n",
       " 'darkorchid',\n",
       " 'darkred',\n",
       " 'darksalmon',\n",
       " 'darkseagreen',\n",
       " 'darkslateblue',\n",
       " 'darkslategray',\n",
       " 'darkturquoise',\n",
       " 'darkviolet',\n",
       " 'deeppink',\n",
       " 'deepskyblue',\n",
       " 'dimgray',\n",
       " 'dodgerblue',\n",
       " 'firebrick',\n",
       " 'floralwhite',\n",
       " 'forestgreen',\n",
       " 'fuchsia',\n",
       " 'gainsboro',\n",
       " 'ghostwhite',\n",
       " 'gold',\n",
       " 'goldenrod',\n",
       " 'gray',\n",
       " 'green',\n",
       " 'greenyellow',\n",
       " 'honeydew',\n",
       " 'hotpink',\n",
       " 'indianred',\n",
       " 'indigo',\n",
       " 'ivory',\n",
       " 'khaki',\n",
       " 'lavender',\n",
       " 'lavenderblush',\n",
       " 'lawngreen',\n",
       " 'lemonchiffon',\n",
       " 'lightblue',\n",
       " 'lightcoral',\n",
       " 'lightcyan',\n",
       " 'lightgoldenrodyellow',\n",
       " 'lightgreen',\n",
       " 'lightgray',\n",
       " 'lightpink',\n",
       " 'lightsalmon',\n",
       " 'lightseagreen',\n",
       " 'lightskyblue',\n",
       " 'lightslategray',\n",
       " 'lightsteelblue',\n",
       " 'lightyellow',\n",
       " 'lime',\n",
       " 'limegreen',\n",
       " 'linen',\n",
       " 'magenta',\n",
       " 'maroon',\n",
       " 'mediumaquamarine',\n",
       " 'mediumblue',\n",
       " 'mediumorchid',\n",
       " 'mediumpurple',\n",
       " 'mediumseagreen',\n",
       " 'mediumslateblue',\n",
       " 'mediumspringgreen',\n",
       " 'mediumturquoise',\n",
       " 'mediumvioletred',\n",
       " 'midnightblue',\n",
       " 'mintcream',\n",
       " 'mistyrose',\n",
       " 'moccasin',\n",
       " 'navajowhite',\n",
       " 'navy',\n",
       " 'oldlace',\n",
       " 'olive',\n",
       " 'olivedrab',\n",
       " 'orange',\n",
       " 'orangered']"
      ]
     },
     "execution_count": 28,
     "metadata": {},
     "output_type": "execute_result"
    }
   ],
   "source": [
    "colors[:len(data['Frequncy'].unique())]"
   ]
  },
  {
   "cell_type": "code",
   "execution_count": 29,
   "metadata": {},
   "outputs": [],
   "source": [
    "my_color=dict()\n",
    "for fre,c in zip(data['Frequncy'].unique(),colors[:len(data['Frequncy'].unique())]):\n",
    "    my_color[fre]=c"
   ]
  },
  {
   "cell_type": "code",
   "execution_count": 30,
   "metadata": {},
   "outputs": [
    {
     "data": {
      "text/plain": [
       "101"
      ]
     },
     "execution_count": 30,
     "metadata": {},
     "output_type": "execute_result"
    }
   ],
   "source": [
    "data['Frequncy'].nunique()"
   ]
  },
  {
   "cell_type": "code",
   "execution_count": 31,
   "metadata": {},
   "outputs": [
    {
     "data": {
      "text/plain": [
       "101"
      ]
     },
     "execution_count": 31,
     "metadata": {},
     "output_type": "execute_result"
    }
   ],
   "source": [
    "len(my_color.keys())"
   ]
  },
  {
   "cell_type": "code",
   "execution_count": 36,
   "metadata": {},
   "outputs": [],
   "source": [
    "from mpl_toolkits import mplot3d\n",
    "from mpl_toolkits.mplot3d import Axes3D\n",
    "import matplotlib.pyplot as plt\n",
    "import matplotlib\n",
    "import numpy as np\n",
    "#%matplotlib\n",
    "%matplotlib qt\n",
    "#%matplotlib inline\n",
    "ax = plt.axes(projection='3d')\n",
    "\n",
    "#三维线的数据\n",
    "\n",
    "\n",
    "\n",
    "for fre in data['Frequncy'].unique():\n",
    "    zline = data[data['Frequncy']==fre]['Delta Gain'].values\n",
    "    xline = data[data['Frequncy']==fre]['Pin Data'].values\n",
    "    yline = data[data['Frequncy']==fre]['Frequncy'].values\n",
    "    ax.plot3D(xline, yline, zline,color=my_color[fre])\n",
    "plt.xlabel('Pin Data')\n",
    "plt.ylabel('Frequncy')\n",
    "ax.set_zlabel('Delta Gain')\n",
    "plt.show()\n",
    "#plt.zlabel('Delta Gain')\n",
    "# 三维散点的数据\n",
    "\n"
   ]
  },
  {
   "cell_type": "code",
   "execution_count": 34,
   "metadata": {},
   "outputs": [
    {
     "data": {
      "text/plain": [
       "Frequncy\n",
       "2000000000   -0.274763\n",
       "2040000000   -0.248884\n",
       "2080000000   -0.239068\n",
       "2120000000   -0.273517\n",
       "2160000000   -0.238078\n",
       "2200000000   -0.257506\n",
       "2240000000   -0.194342\n",
       "2280000000   -0.278517\n",
       "2320000000   -0.204230\n",
       "2360000000   -0.337707\n",
       "2400000000   -0.229713\n",
       "2440000000   -0.298251\n",
       "2480000000   -0.260173\n",
       "2520000000   -0.247341\n",
       "2560000000   -0.243934\n",
       "2600000000   -0.271174\n",
       "2640000000   -0.273741\n",
       "2680000000   -0.278911\n",
       "2720000000   -0.240976\n",
       "2760000000   -0.269740\n",
       "2800000000   -0.242981\n",
       "2840000000   -0.219489\n",
       "2880000000   -0.264401\n",
       "2920000000    2.965884\n",
       "2960000000    2.798495\n",
       "3000000000    3.822208\n",
       "3040000000    3.226774\n",
       "3080000000    3.083806\n",
       "3120000000    3.768852\n",
       "3160000000    2.848560\n",
       "                ...   \n",
       "4840000000    4.172169\n",
       "4880000000    3.235484\n",
       "4920000000    4.216138\n",
       "4960000000    4.271329\n",
       "5000000000    5.004167\n",
       "5040000000    3.652740\n",
       "5080000000    3.549265\n",
       "5120000000    3.937084\n",
       "5160000000    3.440911\n",
       "5200000000    4.131747\n",
       "5240000000    4.536366\n",
       "5280000000    4.954785\n",
       "5320000000    3.682539\n",
       "5360000000    3.549050\n",
       "5400000000    4.423319\n",
       "5440000000    4.287289\n",
       "5480000000    4.300738\n",
       "5520000000    3.612125\n",
       "5560000000    4.668296\n",
       "5600000000    4.205071\n",
       "5640000000    3.397362\n",
       "5680000000    3.767283\n",
       "5720000000    3.409792\n",
       "5760000000    3.951602\n",
       "5800000000    3.147920\n",
       "5840000000    4.087421\n",
       "5880000000    4.250434\n",
       "5920000000    3.506360\n",
       "5960000000    3.163465\n",
       "6000000000    3.226981\n",
       "Name: Delta Gain, Length: 101, dtype: float64"
      ]
     },
     "execution_count": 34,
     "metadata": {},
     "output_type": "execute_result"
    }
   ],
   "source": [
    "data.groupby('Frequncy')['Delta Gain'].max()"
   ]
  },
  {
   "cell_type": "code",
   "execution_count": null,
   "metadata": {},
   "outputs": [],
   "source": [
    "fig = plt.figure()\n",
    "ax = Axes3D(fig)\n",
    "surf = ax.plot_surface(xline, zline,yline.reshape(-1,1), rstride=5, cstride=5, cmap=\"rainbow\",\n",
    "alpha=0.8)\n",
    "# 将自变量的轨迹列表转换为ndarray数组，方便按列单独提取x1与x2的轨迹。\n",
    "array = np.asarray(x_li)\n",
    "x1_trace = xline\n",
    "x2_trace = zline\n",
    "y_list=yline\n",
    "ax.plot(x1_trace, x2_trace, y_list, c=\"b\", ls=\"--\", marker=\"o\")\n",
    "ax.set_title(\"函数$y = 0.2(x1 + x2) ^ {2} - 0.3x1x2 + 0.4$\")"
   ]
  },
  {
   "cell_type": "code",
   "execution_count": null,
   "metadata": {},
   "outputs": [],
   "source": [
    "def fun(x1, x2):\n",
    "    return 0.2 * (x1 + x2) ** 2 - 0.3 * x1 * x2 + 0.4\n",
    "def plot_result(f, x, x_li, y_li):\n",
    "    x1, x2 = x\n",
    "    X1, X2 = np.meshgrid(x1, x2)\n",
    "    X = np.array([X1.ravel(), X2.ravel()]).T\n",
    "    y = f(X[:, 0], X[:, 1])\n",
    "    Y = y.reshape(X1.shape)\n",
    "    fig = plt.figure()\n",
    "    ax = Axes3D(fig)\n",
    "    surf = ax.plot_surface(X1, X2, Y, rstride=5, cstride=5, cmap=\"rainbow\",\n",
    "    alpha=0.8)\n",
    "    # 将自变量的轨迹列表转换为ndarray数组，方便按列单独提取x1与x2的轨迹。\n",
    "    array = np.asarray(x_li)\n",
    "    x1_trace = array[:, 0]\n",
    "    x2_trace = array[:, 1]\n",
    "    ax.plot(x1_trace, x2_trace, y_list, c=\"b\", ls=\"--\", marker=\"o\")\n",
    "    ax.set_title(\"函数$y = 0.2(x1 + x2) ^ {2} - 0.3x1x2 + 0.4$\")\n",
    "    # 绘制三维图时，参数必须是数组类型，不支持标量，这点与绘制二维图不同。\n",
    "    ax.plot(x1_trace[0:1], x2_trace[0:1], y_list[0:1], marker=\"*\", ms=15, c=\"b\",\n",
    "    label=\"初始点\")\n",
    "    ax.plot(x1_trace[-1:], x2_trace[-1:], y_list[-1:], marker=\"*\", ms=15, c=\"g\",\n",
    "    label=\"终止点\")\n",
    "    # 为曲面对象增加颜色条。\n",
    "    fig.colorbar(surf)\n",
    "    ax.legend()\n",
    "    # 创建新的画布，用来绘制等高线图。\n",
    "    fig2 = plt.figure()\n",
    "    ax2 = fig2.gca()\n",
    "    m = ax2.contourf(X1, X2, Y, 10)\n",
    "    ax2.scatter(x1_trace, x2_trace, c=\"r\")\n",
    "    # 为等高线图增加颜色条。\n",
    "    fig2.colorbar(m)\n",
    "    ax2.set_title(\"轨迹更新投影图\")\n",
    "    plt.show()\n",
    "\n",
    "xline = data['Pin Data'].values\n",
    "yline = data['Frequncy'].values\n",
    "zline = data['Delta Gain'].values\n",
    "x1_domain =xline\n",
    "x2_domain =zline\n",
    "plot_result(fun, (x1_domain, x2_domain), xline, zline)"
   ]
  },
  {
   "cell_type": "code",
   "execution_count": null,
   "metadata": {},
   "outputs": [],
   "source": []
  },
  {
   "cell_type": "code",
   "execution_count": null,
   "metadata": {},
   "outputs": [],
   "source": []
  },
  {
   "cell_type": "code",
   "execution_count": null,
   "metadata": {},
   "outputs": [],
   "source": []
  },
  {
   "cell_type": "code",
   "execution_count": null,
   "metadata": {},
   "outputs": [],
   "source": []
  },
  {
   "cell_type": "code",
   "execution_count": null,
   "metadata": {},
   "outputs": [],
   "source": []
  },
  {
   "cell_type": "code",
   "execution_count": 43,
   "metadata": {},
   "outputs": [
    {
     "data": {
      "text/plain": [
       "[<mpl_toolkits.mplot3d.art3d.Line3D at 0x212fcd94080>]"
      ]
     },
     "execution_count": 43,
     "metadata": {},
     "output_type": "execute_result"
    }
   ],
   "source": [
    "fig = plt.figure()\n",
    "ax = Axes3D(fig)\n",
    "zline = mini_data['Delta Gain'].values\n",
    "xline = mini_data['Pin Data'].values\n",
    "yline = mini_data['Frequncy'].values\n",
    "# 将自变量的轨迹列表转换为ndarray数组，方便按列单独提取x1与x2的轨迹。\n",
    "ax.plot(xline, zline, yline, c=\"b\", ls=\"--\", marker=\"o\")"
   ]
  },
  {
   "cell_type": "code",
   "execution_count": 40,
   "metadata": {},
   "outputs": [
    {
     "data": {
      "text/plain": [
       "101"
      ]
     },
     "execution_count": 40,
     "metadata": {},
     "output_type": "execute_result"
    }
   ],
   "source": [
    "data['Frequncy'].nunique()"
   ]
  },
  {
   "cell_type": "code",
   "execution_count": null,
   "metadata": {},
   "outputs": [],
   "source": [
    "plt.plot(x, y, \"g\", marker='D', markersize=5)"
   ]
  },
  {
   "cell_type": "code",
   "execution_count": 22,
   "metadata": {},
   "outputs": [
    {
     "data": {
      "text/html": [
       "<div>\n",
       "<style scoped>\n",
       "    .dataframe tbody tr th:only-of-type {\n",
       "        vertical-align: middle;\n",
       "    }\n",
       "\n",
       "    .dataframe tbody tr th {\n",
       "        vertical-align: top;\n",
       "    }\n",
       "\n",
       "    .dataframe thead th {\n",
       "        text-align: right;\n",
       "    }\n",
       "</style>\n",
       "<table border=\"1\" class=\"dataframe\">\n",
       "  <thead>\n",
       "    <tr style=\"text-align: right;\">\n",
       "      <th></th>\n",
       "      <th>Frequncy</th>\n",
       "      <th>Pin Data</th>\n",
       "      <th>S21</th>\n",
       "    </tr>\n",
       "  </thead>\n",
       "  <tbody>\n",
       "    <tr>\n",
       "      <th>0</th>\n",
       "      <td>2000000000</td>\n",
       "      <td>-10.378778</td>\n",
       "      <td>14.826614</td>\n",
       "    </tr>\n",
       "    <tr>\n",
       "      <th>1</th>\n",
       "      <td>2000000000</td>\n",
       "      <td>-9.871502</td>\n",
       "      <td>14.826614</td>\n",
       "    </tr>\n",
       "    <tr>\n",
       "      <th>2</th>\n",
       "      <td>2000000000</td>\n",
       "      <td>-9.362414</td>\n",
       "      <td>14.826614</td>\n",
       "    </tr>\n",
       "    <tr>\n",
       "      <th>3</th>\n",
       "      <td>2000000000</td>\n",
       "      <td>-8.853709</td>\n",
       "      <td>14.826614</td>\n",
       "    </tr>\n",
       "    <tr>\n",
       "      <th>4</th>\n",
       "      <td>2000000000</td>\n",
       "      <td>-8.343059</td>\n",
       "      <td>14.826614</td>\n",
       "    </tr>\n",
       "  </tbody>\n",
       "</table>\n",
       "</div>"
      ],
      "text/plain": [
       "     Frequncy   Pin Data        S21\n",
       "0  2000000000 -10.378778  14.826614\n",
       "1  2000000000  -9.871502  14.826614\n",
       "2  2000000000  -9.362414  14.826614\n",
       "3  2000000000  -8.853709  14.826614\n",
       "4  2000000000  -8.343059  14.826614"
      ]
     },
     "execution_count": 22,
     "metadata": {},
     "output_type": "execute_result"
    }
   ],
   "source": [
    "mini_data.head()"
   ]
  },
  {
   "cell_type": "code",
   "execution_count": 23,
   "metadata": {},
   "outputs": [
    {
     "data": {
      "text/plain": [
       "array([14.826614])"
      ]
     },
     "execution_count": 23,
     "metadata": {},
     "output_type": "execute_result"
    }
   ],
   "source": [
    "mini_data['S21'].unique()"
   ]
  },
  {
   "cell_type": "code",
   "execution_count": 11,
   "metadata": {},
   "outputs": [
    {
     "data": {
      "text/html": [
       "<div>\n",
       "<style scoped>\n",
       "    .dataframe tbody tr th:only-of-type {\n",
       "        vertical-align: middle;\n",
       "    }\n",
       "\n",
       "    .dataframe tbody tr th {\n",
       "        vertical-align: top;\n",
       "    }\n",
       "\n",
       "    .dataframe thead th {\n",
       "        text-align: right;\n",
       "    }\n",
       "</style>\n",
       "<table border=\"1\" class=\"dataframe\">\n",
       "  <thead>\n",
       "    <tr style=\"text-align: right;\">\n",
       "      <th></th>\n",
       "      <th>!CSV A.01.01</th>\n",
       "      <th>Unnamed: 1</th>\n",
       "      <th>Unnamed: 2</th>\n",
       "      <th>Unnamed: 3</th>\n",
       "      <th>Unnamed: 4</th>\n",
       "      <th>Unnamed: 5</th>\n",
       "      <th>Unnamed: 6</th>\n",
       "      <th>Unnamed: 7</th>\n",
       "      <th>Unnamed: 8</th>\n",
       "      <th>Unnamed: 9</th>\n",
       "      <th>Unnamed: 10</th>\n",
       "      <th>Unnamed: 11</th>\n",
       "      <th>Unnamed: 12</th>\n",
       "    </tr>\n",
       "  </thead>\n",
       "  <tbody>\n",
       "    <tr>\n",
       "      <th>0</th>\n",
       "      <td>!Ceyear Technologies</td>\n",
       "      <td>3672E</td>\n",
       "      <td>ZFL00040</td>\n",
       "      <td>2.1.5</td>\n",
       "      <td>NaN</td>\n",
       "      <td>NaN</td>\n",
       "      <td>NaN</td>\n",
       "      <td>NaN</td>\n",
       "      <td>NaN</td>\n",
       "      <td>NaN</td>\n",
       "      <td>NaN</td>\n",
       "      <td>NaN</td>\n",
       "      <td>NaN</td>\n",
       "    </tr>\n",
       "    <tr>\n",
       "      <th>1</th>\n",
       "      <td>!Date:</td>\n",
       "      <td>2022/6/12 12:11</td>\n",
       "      <td>NaN</td>\n",
       "      <td>NaN</td>\n",
       "      <td>NaN</td>\n",
       "      <td>NaN</td>\n",
       "      <td>NaN</td>\n",
       "      <td>NaN</td>\n",
       "      <td>NaN</td>\n",
       "      <td>NaN</td>\n",
       "      <td>NaN</td>\n",
       "      <td>NaN</td>\n",
       "      <td>NaN</td>\n",
       "    </tr>\n",
       "    <tr>\n",
       "      <th>2</th>\n",
       "      <td>!Source:</td>\n",
       "      <td>GCA Sweep Data</td>\n",
       "      <td>NaN</td>\n",
       "      <td>NaN</td>\n",
       "      <td>NaN</td>\n",
       "      <td>NaN</td>\n",
       "      <td>NaN</td>\n",
       "      <td>NaN</td>\n",
       "      <td>NaN</td>\n",
       "      <td>NaN</td>\n",
       "      <td>NaN</td>\n",
       "      <td>NaN</td>\n",
       "      <td>NaN</td>\n",
       "    </tr>\n",
       "    <tr>\n",
       "      <th>3</th>\n",
       "      <td>NaN</td>\n",
       "      <td>NaN</td>\n",
       "      <td>NaN</td>\n",
       "      <td>NaN</td>\n",
       "      <td>NaN</td>\n",
       "      <td>NaN</td>\n",
       "      <td>NaN</td>\n",
       "      <td>NaN</td>\n",
       "      <td>NaN</td>\n",
       "      <td>NaN</td>\n",
       "      <td>NaN</td>\n",
       "      <td>NaN</td>\n",
       "      <td>NaN</td>\n",
       "    </tr>\n",
       "    <tr>\n",
       "      <th>4</th>\n",
       "      <td>Calibration State:</td>\n",
       "      <td>ON</td>\n",
       "      <td>NaN</td>\n",
       "      <td>NaN</td>\n",
       "      <td>NaN</td>\n",
       "      <td>NaN</td>\n",
       "      <td>NaN</td>\n",
       "      <td>NaN</td>\n",
       "      <td>NaN</td>\n",
       "      <td>NaN</td>\n",
       "      <td>NaN</td>\n",
       "      <td>NaN</td>\n",
       "      <td>NaN</td>\n",
       "    </tr>\n",
       "  </tbody>\n",
       "</table>\n",
       "</div>"
      ],
      "text/plain": [
       "           !CSV A.01.01       Unnamed: 1 Unnamed: 2 Unnamed: 3 Unnamed: 4  \\\n",
       "0  !Ceyear Technologies            3672E   ZFL00040      2.1.5        NaN   \n",
       "1                !Date:  2022/6/12 12:11        NaN        NaN        NaN   \n",
       "2              !Source:   GCA Sweep Data        NaN        NaN        NaN   \n",
       "3                   NaN              NaN        NaN        NaN        NaN   \n",
       "4    Calibration State:               ON        NaN        NaN        NaN   \n",
       "\n",
       "  Unnamed: 5 Unnamed: 6 Unnamed: 7 Unnamed: 8 Unnamed: 9 Unnamed: 10  \\\n",
       "0        NaN        NaN        NaN        NaN        NaN         NaN   \n",
       "1        NaN        NaN        NaN        NaN        NaN         NaN   \n",
       "2        NaN        NaN        NaN        NaN        NaN         NaN   \n",
       "3        NaN        NaN        NaN        NaN        NaN         NaN   \n",
       "4        NaN        NaN        NaN        NaN        NaN         NaN   \n",
       "\n",
       "  Unnamed: 11 Unnamed: 12  \n",
       "0         NaN         NaN  \n",
       "1         NaN         NaN  \n",
       "2         NaN         NaN  \n",
       "3         NaN         NaN  \n",
       "4         NaN         NaN  "
      ]
     },
     "execution_count": 11,
     "metadata": {},
     "output_type": "execute_result"
    }
   ],
   "source": [
    "data.head()"
   ]
  },
  {
   "cell_type": "code",
   "execution_count": 12,
   "metadata": {},
   "outputs": [
    {
     "data": {
      "text/plain": [
       "(3040, 13)"
      ]
     },
     "execution_count": 12,
     "metadata": {},
     "output_type": "execute_result"
    }
   ],
   "source": [
    "data.shape"
   ]
  },
  {
   "cell_type": "code",
   "execution_count": null,
   "metadata": {},
   "outputs": [],
   "source": []
  },
  {
   "cell_type": "code",
   "execution_count": null,
   "metadata": {},
   "outputs": [],
   "source": []
  },
  {
   "cell_type": "code",
   "execution_count": 7,
   "metadata": {},
   "outputs": [
    {
     "data": {
      "text/plain": [
       "<mpl_toolkits.mplot3d.art3d.Path3DCollection at 0x212f2e5ba58>"
      ]
     },
     "execution_count": 7,
     "metadata": {},
     "output_type": "execute_result"
    },
    {
     "data": {
      "image/png": "[encoded data removed]",
      "text/plain": [
       "<Figure size 432x288 with 1 Axes>"
      ]
     },
     "metadata": {},
     "output_type": "display_data"
    }
   ],
   "source": [
    "from mpl_toolkits import mplot3d\n",
    "\n",
    "import matplotlib.pyplot as plt\n",
    "import numpy as np\n",
    "\n",
    "ax = plt.axes(projection='3d')\n",
    "\n",
    "#三维线的数据\n",
    "zline = np.linspace(0, 15, 1000)\n",
    "xline = np.sin(zline)\n",
    "yline = np.cos(zline)\n",
    "ax.plot3D(xline, yline, zline, 'gray')\n",
    "\n",
    "# 三维散点的数据\n",
    "zdata = 15 * np.random.random(100)\n",
    "xdata = np.sin(zdata) + 0.1 * np.random.randn(100)\n",
    "ydata = np.cos(zdata) + 0.1 * np.random.randn(100)\n",
    "ax.scatter3D(xdata, ydata, zdata, c=zdata, cmap='Greens')\n"
   ]
  },
  {
   "cell_type": "code",
   "execution_count": 2,
   "metadata": {},
   "outputs": [],
   "source": [
    "#三维等高线"
   ]
  },
  {
   "cell_type": "code",
   "execution_count": 3,
   "metadata": {},
   "outputs": [
    {
     "data": {
      "image/png": "[encoded data removed]",
      "text/plain": [
       "<Figure size 432x288 with 1 Axes>"
      ]
     },
     "metadata": {},
     "output_type": "display_data"
    }
   ],
   "source": [
    "def f(x, y):\n",
    "    return np.sin(np.sqrt(x ** 2 + y ** 2))\n",
    "x = np.linspace(-6,6,30)\n",
    "y = np.linspace(-6,6,30)\n",
    "X, Y = np.meshgrid(x, y)\n",
    "Z = f(X,Y)\n",
    "\n",
    "fig = plt.figure()\n",
    "ax = plt.axes(projection='3d')\n",
    "ax.contour3D(X, Y, Z, 50, cmap='binary')\n",
    "ax.set_xlabel('x')\n",
    "ax.set_ylabel('y')\n",
    "ax.set_zlabel('z')\n",
    "#调整观察角度和方位角。这里将俯仰角设为60度，把方位角调整为35度\n",
    "ax.view_init(60, 35)"
   ]
  },
  {
   "cell_type": "code",
   "execution_count": null,
   "metadata": {},
   "outputs": [],
   "source": []
  }
 ],
 "metadata": {
  "kernelspec": {
   "display_name": "Python 3",
   "language": "python",
   "name": "python3"
  },
  "language_info": {
   "codemirror_mode": {
    "name": "ipython",
    "version": 3
   },
   "file_extension": ".py",
   "mimetype": "text/x-python",
   "name": "python",
   "nbconvert_exporter": "python",
   "pygments_lexer": "ipython3",
   "version": "3.6.5"
  }
 },
 "nbformat": 4,
 "nbformat_minor": 2
}
