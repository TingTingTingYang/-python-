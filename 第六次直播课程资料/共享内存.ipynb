{
 "cells": [
  {
   "cell_type": "markdown",
   "id": "1d148bea-318d-4d5a-b081-ecd6e7d01d09",
   "metadata": {},
   "source": [
    "## multiprocessing\n",
    "\n",
    "https://docs.python.org/3/library/multiprocessing.shared_memory.html"
   ]
  },
  {
   "cell_type": "code",
   "execution_count": 7,
   "id": "aa8b1ce9-e03c-4ccd-9b1f-f4200048735f",
   "metadata": {
    "execution": {
     "iopub.execute_input": "2022-12-26T09:01:43.616864Z",
     "iopub.status.busy": "2022-12-26T09:01:43.616448Z",
     "iopub.status.idle": "2022-12-26T09:01:43.624904Z",
     "shell.execute_reply": "2022-12-26T09:01:43.624315Z",
     "shell.execute_reply.started": "2022-12-26T09:01:43.616817Z"
    },
    "tags": []
   },
   "outputs": [
    {
     "name": "stdout",
     "output_type": "stream",
     "text": [
      "psm_fd17e650\n"
     ]
    }
   ],
   "source": [
    "from multiprocessing import shared_memory\n",
    "shm_a = shared_memory.SharedMemory(create=True, size=10)\n",
    "\n",
    "buffer = shm_a.buf\n",
    "len(buffer)\n",
    "\n",
    "buffer[:4] = bytearray([22, 33, 44, 55])  # Modify multiple at once\n",
    "buffer[4] = 100                           # Modify single byte at a time\n",
    "# shm_a.close()\n",
    "\n",
    "print(shm_a.name)"
   ]
  },
  {
   "cell_type": "code",
   "execution_count": 8,
   "id": "88ce7040-6e00-485d-a2b9-406d98c4f865",
   "metadata": {
    "execution": {
     "iopub.execute_input": "2022-12-26T09:01:44.090698Z",
     "iopub.status.busy": "2022-12-26T09:01:44.090134Z",
     "iopub.status.idle": "2022-12-26T09:01:44.097337Z",
     "shell.execute_reply": "2022-12-26T09:01:44.096795Z",
     "shell.execute_reply.started": "2022-12-26T09:01:44.090648Z"
    },
    "tags": []
   },
   "outputs": [
    {
     "data": {
      "text/plain": [
       "array('b', [22, 33, 44, 55, 100])"
      ]
     },
     "execution_count": 8,
     "metadata": {},
     "output_type": "execute_result"
    }
   ],
   "source": [
    "from multiprocessing import shared_memory\n",
    "shm_b = shared_memory.SharedMemory(shm_a.name)\n",
    "\n",
    "import array\n",
    "array.array('b', shm_b.buf[:5])  # Copy the data into a new array.array"
   ]
  },
  {
   "cell_type": "code",
   "execution_count": 9,
   "id": "7c86292d-f936-4ae6-b5de-f623faf425d4",
   "metadata": {
    "execution": {
     "iopub.execute_input": "2022-12-26T09:01:44.627748Z",
     "iopub.status.busy": "2022-12-26T09:01:44.627361Z",
     "iopub.status.idle": "2022-12-26T09:01:44.633229Z",
     "shell.execute_reply": "2022-12-26T09:01:44.632241Z",
     "shell.execute_reply.started": "2022-12-26T09:01:44.627702Z"
    },
    "tags": []
   },
   "outputs": [],
   "source": [
    "shm_b.buf[:5] = b'howdy'  # Modify via shm_b using bytes"
   ]
  },
  {
   "cell_type": "code",
   "execution_count": 12,
   "id": "69f1b24c-91f7-4939-8011-15a0af7538f2",
   "metadata": {
    "execution": {
     "iopub.execute_input": "2022-12-26T09:02:13.026170Z",
     "iopub.status.busy": "2022-12-26T09:02:13.025330Z",
     "iopub.status.idle": "2022-12-26T09:02:13.033203Z",
     "shell.execute_reply": "2022-12-26T09:02:13.032575Z",
     "shell.execute_reply.started": "2022-12-26T09:02:13.026082Z"
    },
    "tags": []
   },
   "outputs": [
    {
     "data": {
      "text/plain": [
       "b'howdy'"
      ]
     },
     "execution_count": 12,
     "metadata": {},
     "output_type": "execute_result"
    }
   ],
   "source": [
    "bytes(shm_a.buf[:5])"
   ]
  },
  {
   "cell_type": "markdown",
   "id": "bd1ee5ce-d7b1-42c2-b064-28d3159107eb",
   "metadata": {},
   "source": [
    "## joblib\n",
    "\n",
    "https://joblib.readthedocs.io/en/latest/memory.html"
   ]
  },
  {
   "cell_type": "code",
   "execution_count": 13,
   "id": "d992dcca-c581-40ef-80dd-b6f82844b323",
   "metadata": {
    "execution": {
     "iopub.execute_input": "2022-12-26T09:26:45.025994Z",
     "iopub.status.busy": "2022-12-26T09:26:45.025410Z",
     "iopub.status.idle": "2022-12-26T09:26:45.133948Z",
     "shell.execute_reply": "2022-12-26T09:26:45.133504Z",
     "shell.execute_reply.started": "2022-12-26T09:26:45.025946Z"
    }
   },
   "outputs": [],
   "source": [
    "from joblib import Memory\n",
    "memory = Memory('/tmp/', verbose=0)\n"
   ]
  },
  {
   "cell_type": "code",
   "execution_count": 14,
   "id": "6c8815aa-1c3a-4e4f-a8d2-fa275df3273a",
   "metadata": {
    "execution": {
     "iopub.execute_input": "2022-12-26T09:27:43.250991Z",
     "iopub.status.busy": "2022-12-26T09:27:43.250559Z",
     "iopub.status.idle": "2022-12-26T09:27:43.257144Z",
     "shell.execute_reply": "2022-12-26T09:27:43.256440Z",
     "shell.execute_reply.started": "2022-12-26T09:27:43.250941Z"
    }
   },
   "outputs": [],
   "source": [
    "@memory.cache\n",
    "def f(x):\n",
    "    print('Running f(%s)' % x)\n",
    "    return x"
   ]
  },
  {
   "cell_type": "code",
   "execution_count": 15,
   "id": "6179c1fb-d159-45cd-b8b4-21216b4600a8",
   "metadata": {
    "execution": {
     "iopub.execute_input": "2022-12-26T09:27:46.031856Z",
     "iopub.status.busy": "2022-12-26T09:27:46.031432Z",
     "iopub.status.idle": "2022-12-26T09:27:46.041587Z",
     "shell.execute_reply": "2022-12-26T09:27:46.041121Z",
     "shell.execute_reply.started": "2022-12-26T09:27:46.031810Z"
    }
   },
   "outputs": [
    {
     "name": "stdout",
     "output_type": "stream",
     "text": [
      "Running f(1)\n"
     ]
    },
    {
     "data": {
      "text/plain": [
       "1"
      ]
     },
     "execution_count": 15,
     "metadata": {},
     "output_type": "execute_result"
    }
   ],
   "source": [
    "f(1)"
   ]
  },
  {
   "cell_type": "code",
   "execution_count": 16,
   "id": "82e5ed08-6354-4aac-92ce-466b93794332",
   "metadata": {
    "execution": {
     "iopub.execute_input": "2022-12-26T09:27:49.027863Z",
     "iopub.status.busy": "2022-12-26T09:27:49.027290Z",
     "iopub.status.idle": "2022-12-26T09:27:49.035773Z",
     "shell.execute_reply": "2022-12-26T09:27:49.034775Z",
     "shell.execute_reply.started": "2022-12-26T09:27:49.027823Z"
    }
   },
   "outputs": [
    {
     "data": {
      "text/plain": [
       "1"
      ]
     },
     "execution_count": 16,
     "metadata": {},
     "output_type": "execute_result"
    }
   ],
   "source": [
    "f(1)"
   ]
  },
  {
   "cell_type": "code",
   "execution_count": null,
   "id": "a30b17da-20a2-4952-b9ac-506d45f99571",
   "metadata": {},
   "outputs": [],
   "source": []
  }
 ],
 "metadata": {
  "kernelspec": {
   "display_name": "Python 3 (ipykernel)",
   "language": "python",
   "name": "python3.10"
  },
  "language_info": {
   "codemirror_mode": {
    "name": "ipython",
    "version": 3
   },
   "file_extension": ".py",
   "mimetype": "text/x-python",
   "name": "python",
   "nbconvert_exporter": "python",
   "pygments_lexer": "ipython3",
   "version": "3.9.10"
  },
  "widgets": {
   "application/vnd.jupyter.widget-state+json": {
    "state": {},
    "version_major": 2,
    "version_minor": 0
   }
  }
 },
 "nbformat": 4,
 "nbformat_minor": 5
}
