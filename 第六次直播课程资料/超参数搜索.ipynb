{
 "cells": [
  {
   "cell_type": "code",
   "execution_count": 26,
   "id": "4532a4e1-4b21-45ac-9092-647674fda4c3",
   "metadata": {
    "execution": {
     "iopub.execute_input": "2022-10-18T06:26:24.771670Z",
     "iopub.status.busy": "2022-10-18T06:26:24.771200Z",
     "iopub.status.idle": "2022-10-18T06:26:24.847832Z",
     "shell.execute_reply": "2022-10-18T06:26:24.847284Z",
     "shell.execute_reply.started": "2022-10-18T06:26:24.771632Z"
    },
    "tags": []
   },
   "outputs": [],
   "source": [
    "import pandas as pd\n",
    "from sklearn.model_selection import train_test_split\n",
    "from sklearn.model_selection import GridSearchCV\n",
    "from sklearn.model_selection import RandomizedSearchCV\n",
    "\n",
    "from sklearn.experimental import enable_halving_search_cv, enable_halving_search_cv\n",
    "from sklearn.model_selection import HalvingGridSearchCV\n",
    "from sklearn.model_selection import HalvingRandomSearchCV\n",
    "\n",
    "from sklearn.ensemble import RandomForestClassifier\n",
    "\n",
    "df = pd.read_csv('https://mirror.coggle.club/dataset/heart.csv')\n",
    "X = df.drop(columns=['output'])\n",
    "y = df['output']\n",
    "\n",
    "x_train, x_test, y_train, y_test = train_test_split(X, y, stratify=y)"
   ]
  },
  {
   "cell_type": "code",
   "execution_count": 27,
   "id": "917fa071-beda-4257-be97-af05140a113d",
   "metadata": {
    "execution": {
     "iopub.execute_input": "2022-10-18T06:26:24.849357Z",
     "iopub.status.busy": "2022-10-18T06:26:24.849093Z",
     "iopub.status.idle": "2022-10-18T06:26:24.862986Z",
     "shell.execute_reply": "2022-10-18T06:26:24.862617Z",
     "shell.execute_reply.started": "2022-10-18T06:26:24.849339Z"
    },
    "tags": []
   },
   "outputs": [
    {
     "data": {
      "text/html": [
       "<div>\n",
       "<style scoped>\n",
       "    .dataframe tbody tr th:only-of-type {\n",
       "        vertical-align: middle;\n",
       "    }\n",
       "\n",
       "    .dataframe tbody tr th {\n",
       "        vertical-align: top;\n",
       "    }\n",
       "\n",
       "    .dataframe thead th {\n",
       "        text-align: right;\n",
       "    }\n",
       "</style>\n",
       "<table border=\"1\" class=\"dataframe\">\n",
       "  <thead>\n",
       "    <tr style=\"text-align: right;\">\n",
       "      <th></th>\n",
       "      <th>age</th>\n",
       "      <th>sex</th>\n",
       "      <th>cp</th>\n",
       "      <th>trtbps</th>\n",
       "      <th>chol</th>\n",
       "      <th>fbs</th>\n",
       "      <th>restecg</th>\n",
       "      <th>thalachh</th>\n",
       "      <th>exng</th>\n",
       "      <th>oldpeak</th>\n",
       "      <th>slp</th>\n",
       "      <th>caa</th>\n",
       "      <th>thall</th>\n",
       "      <th>output</th>\n",
       "    </tr>\n",
       "  </thead>\n",
       "  <tbody>\n",
       "    <tr>\n",
       "      <th>0</th>\n",
       "      <td>63</td>\n",
       "      <td>1</td>\n",
       "      <td>3</td>\n",
       "      <td>145</td>\n",
       "      <td>233</td>\n",
       "      <td>1</td>\n",
       "      <td>0</td>\n",
       "      <td>150</td>\n",
       "      <td>0</td>\n",
       "      <td>2.3</td>\n",
       "      <td>0</td>\n",
       "      <td>0</td>\n",
       "      <td>1</td>\n",
       "      <td>1</td>\n",
       "    </tr>\n",
       "    <tr>\n",
       "      <th>1</th>\n",
       "      <td>37</td>\n",
       "      <td>1</td>\n",
       "      <td>2</td>\n",
       "      <td>130</td>\n",
       "      <td>250</td>\n",
       "      <td>0</td>\n",
       "      <td>1</td>\n",
       "      <td>187</td>\n",
       "      <td>0</td>\n",
       "      <td>3.5</td>\n",
       "      <td>0</td>\n",
       "      <td>0</td>\n",
       "      <td>2</td>\n",
       "      <td>1</td>\n",
       "    </tr>\n",
       "    <tr>\n",
       "      <th>2</th>\n",
       "      <td>41</td>\n",
       "      <td>0</td>\n",
       "      <td>1</td>\n",
       "      <td>130</td>\n",
       "      <td>204</td>\n",
       "      <td>0</td>\n",
       "      <td>0</td>\n",
       "      <td>172</td>\n",
       "      <td>0</td>\n",
       "      <td>1.4</td>\n",
       "      <td>2</td>\n",
       "      <td>0</td>\n",
       "      <td>2</td>\n",
       "      <td>1</td>\n",
       "    </tr>\n",
       "    <tr>\n",
       "      <th>3</th>\n",
       "      <td>56</td>\n",
       "      <td>1</td>\n",
       "      <td>1</td>\n",
       "      <td>120</td>\n",
       "      <td>236</td>\n",
       "      <td>0</td>\n",
       "      <td>1</td>\n",
       "      <td>178</td>\n",
       "      <td>0</td>\n",
       "      <td>0.8</td>\n",
       "      <td>2</td>\n",
       "      <td>0</td>\n",
       "      <td>2</td>\n",
       "      <td>1</td>\n",
       "    </tr>\n",
       "    <tr>\n",
       "      <th>4</th>\n",
       "      <td>57</td>\n",
       "      <td>0</td>\n",
       "      <td>0</td>\n",
       "      <td>120</td>\n",
       "      <td>354</td>\n",
       "      <td>0</td>\n",
       "      <td>1</td>\n",
       "      <td>163</td>\n",
       "      <td>1</td>\n",
       "      <td>0.6</td>\n",
       "      <td>2</td>\n",
       "      <td>0</td>\n",
       "      <td>2</td>\n",
       "      <td>1</td>\n",
       "    </tr>\n",
       "    <tr>\n",
       "      <th>...</th>\n",
       "      <td>...</td>\n",
       "      <td>...</td>\n",
       "      <td>...</td>\n",
       "      <td>...</td>\n",
       "      <td>...</td>\n",
       "      <td>...</td>\n",
       "      <td>...</td>\n",
       "      <td>...</td>\n",
       "      <td>...</td>\n",
       "      <td>...</td>\n",
       "      <td>...</td>\n",
       "      <td>...</td>\n",
       "      <td>...</td>\n",
       "      <td>...</td>\n",
       "    </tr>\n",
       "    <tr>\n",
       "      <th>298</th>\n",
       "      <td>57</td>\n",
       "      <td>0</td>\n",
       "      <td>0</td>\n",
       "      <td>140</td>\n",
       "      <td>241</td>\n",
       "      <td>0</td>\n",
       "      <td>1</td>\n",
       "      <td>123</td>\n",
       "      <td>1</td>\n",
       "      <td>0.2</td>\n",
       "      <td>1</td>\n",
       "      <td>0</td>\n",
       "      <td>3</td>\n",
       "      <td>0</td>\n",
       "    </tr>\n",
       "    <tr>\n",
       "      <th>299</th>\n",
       "      <td>45</td>\n",
       "      <td>1</td>\n",
       "      <td>3</td>\n",
       "      <td>110</td>\n",
       "      <td>264</td>\n",
       "      <td>0</td>\n",
       "      <td>1</td>\n",
       "      <td>132</td>\n",
       "      <td>0</td>\n",
       "      <td>1.2</td>\n",
       "      <td>1</td>\n",
       "      <td>0</td>\n",
       "      <td>3</td>\n",
       "      <td>0</td>\n",
       "    </tr>\n",
       "    <tr>\n",
       "      <th>300</th>\n",
       "      <td>68</td>\n",
       "      <td>1</td>\n",
       "      <td>0</td>\n",
       "      <td>144</td>\n",
       "      <td>193</td>\n",
       "      <td>1</td>\n",
       "      <td>1</td>\n",
       "      <td>141</td>\n",
       "      <td>0</td>\n",
       "      <td>3.4</td>\n",
       "      <td>1</td>\n",
       "      <td>2</td>\n",
       "      <td>3</td>\n",
       "      <td>0</td>\n",
       "    </tr>\n",
       "    <tr>\n",
       "      <th>301</th>\n",
       "      <td>57</td>\n",
       "      <td>1</td>\n",
       "      <td>0</td>\n",
       "      <td>130</td>\n",
       "      <td>131</td>\n",
       "      <td>0</td>\n",
       "      <td>1</td>\n",
       "      <td>115</td>\n",
       "      <td>1</td>\n",
       "      <td>1.2</td>\n",
       "      <td>1</td>\n",
       "      <td>1</td>\n",
       "      <td>3</td>\n",
       "      <td>0</td>\n",
       "    </tr>\n",
       "    <tr>\n",
       "      <th>302</th>\n",
       "      <td>57</td>\n",
       "      <td>0</td>\n",
       "      <td>1</td>\n",
       "      <td>130</td>\n",
       "      <td>236</td>\n",
       "      <td>0</td>\n",
       "      <td>0</td>\n",
       "      <td>174</td>\n",
       "      <td>0</td>\n",
       "      <td>0.0</td>\n",
       "      <td>1</td>\n",
       "      <td>1</td>\n",
       "      <td>2</td>\n",
       "      <td>0</td>\n",
       "    </tr>\n",
       "  </tbody>\n",
       "</table>\n",
       "<p>303 rows × 14 columns</p>\n",
       "</div>"
      ],
      "text/plain": [
       "     age  sex  cp  trtbps  chol  fbs  restecg  thalachh  exng  oldpeak  slp  \\\n",
       "0     63    1   3     145   233    1        0       150     0      2.3    0   \n",
       "1     37    1   2     130   250    0        1       187     0      3.5    0   \n",
       "2     41    0   1     130   204    0        0       172     0      1.4    2   \n",
       "3     56    1   1     120   236    0        1       178     0      0.8    2   \n",
       "4     57    0   0     120   354    0        1       163     1      0.6    2   \n",
       "..   ...  ...  ..     ...   ...  ...      ...       ...   ...      ...  ...   \n",
       "298   57    0   0     140   241    0        1       123     1      0.2    1   \n",
       "299   45    1   3     110   264    0        1       132     0      1.2    1   \n",
       "300   68    1   0     144   193    1        1       141     0      3.4    1   \n",
       "301   57    1   0     130   131    0        1       115     1      1.2    1   \n",
       "302   57    0   1     130   236    0        0       174     0      0.0    1   \n",
       "\n",
       "     caa  thall  output  \n",
       "0      0      1       1  \n",
       "1      0      2       1  \n",
       "2      0      2       1  \n",
       "3      0      2       1  \n",
       "4      0      2       1  \n",
       "..   ...    ...     ...  \n",
       "298    0      3       0  \n",
       "299    0      3       0  \n",
       "300    2      3       0  \n",
       "301    1      3       0  \n",
       "302    1      2       0  \n",
       "\n",
       "[303 rows x 14 columns]"
      ]
     },
     "execution_count": 27,
     "metadata": {},
     "output_type": "execute_result"
    }
   ],
   "source": [
    "df"
   ]
  },
  {
   "cell_type": "markdown",
   "id": "f64e55bf-26ba-4b5e-90bf-3ce0592d480a",
   "metadata": {},
   "source": [
    "# 原始模型"
   ]
  },
  {
   "cell_type": "code",
   "execution_count": null,
   "id": "a8df8ad0-8bd1-413b-baed-aefd17c91b51",
   "metadata": {
    "execution": {
     "iopub.execute_input": "2022-10-18T06:19:27.341618Z",
     "iopub.status.busy": "2022-10-18T06:19:27.341090Z"
    },
    "tags": []
   },
   "outputs": [
    {
     "name": "stdout",
     "output_type": "stream",
     "text": [
      "CPU times: user 110 ms, sys: 194 µs, total: 110 ms\n",
      "Wall time: 108 ms\n"
     ]
    },
    {
     "data": {
      "text/plain": [
       "0.8026315789473685"
      ]
     },
     "execution_count": 14,
     "metadata": {},
     "output_type": "execute_result"
    }
   ],
   "source": [
    "%%time\n",
    "\n",
    "clf = RandomForestClassifier(random_state=0)\n",
    "clf.fit(x_train, y_train)\n",
    "clf.score(x_test, y_test)"
   ]
  },
  {
   "cell_type": "markdown",
   "id": "bef9aa48-0369-4b65-b5a8-d49ba0260606",
   "metadata": {},
   "source": [
    "# GridSearchCV"
   ]
  },
  {
   "cell_type": "code",
   "execution_count": 16,
   "id": "98e3fab0-5882-4665-95cc-be535a4d337a",
   "metadata": {
    "execution": {
     "iopub.execute_input": "2022-10-18T06:19:59.562161Z",
     "iopub.status.busy": "2022-10-18T06:19:59.561487Z",
     "iopub.status.idle": "2022-10-18T06:20:40.177182Z",
     "shell.execute_reply": "2022-10-18T06:20:40.176749Z",
     "shell.execute_reply.started": "2022-10-18T06:19:59.562105Z"
    },
    "tags": []
   },
   "outputs": [
    {
     "name": "stdout",
     "output_type": "stream",
     "text": [
      "Fitting 5 folds for each of 90 candidates, totalling 450 fits\n",
      "CPU times: user 40.5 s, sys: 92.7 ms, total: 40.6 s\n",
      "Wall time: 40.6 s\n"
     ]
    },
    {
     "data": {
      "text/plain": [
       "0.8157894736842105"
      ]
     },
     "execution_count": 16,
     "metadata": {},
     "output_type": "execute_result"
    }
   ],
   "source": [
    "%%time\n",
    "\n",
    "parameters = {\n",
    "    'max_depth': [2,4,5,6,7],\n",
    "    'min_samples_leaf': [1,2,3],\n",
    "    'min_weight_fraction_leaf': [0, 0.1],\n",
    "    'min_impurity_decrease': [0, 0.1, 0.2]\n",
    "}\n",
    "\n",
    "clf = GridSearchCV(\n",
    "    RandomForestClassifier(random_state=0),\n",
    "    parameters, refit=True, verbose=1,\n",
    ")\n",
    "clf.fit(x_train, y_train)\n",
    "clf.best_estimator_.score(x_test, y_test)"
   ]
  },
  {
   "cell_type": "markdown",
   "id": "e00e11fe-1607-42f2-9a65-bf5350c95a48",
   "metadata": {
    "tags": []
   },
   "source": [
    "# RandomizedSearchCV"
   ]
  },
  {
   "cell_type": "code",
   "execution_count": 17,
   "id": "2790c320-cf2d-4de6-92a6-b802f0a3e536",
   "metadata": {
    "execution": {
     "iopub.execute_input": "2022-10-18T06:20:47.909222Z",
     "iopub.status.busy": "2022-10-18T06:20:47.908788Z",
     "iopub.status.idle": "2022-10-18T06:20:52.601963Z",
     "shell.execute_reply": "2022-10-18T06:20:52.601613Z",
     "shell.execute_reply.started": "2022-10-18T06:20:47.909176Z"
    },
    "tags": []
   },
   "outputs": [
    {
     "name": "stdout",
     "output_type": "stream",
     "text": [
      "Fitting 5 folds for each of 10 candidates, totalling 50 fits\n",
      "CPU times: user 4.68 s, sys: 11.8 ms, total: 4.69 s\n",
      "Wall time: 4.69 s\n"
     ]
    },
    {
     "data": {
      "text/plain": [
       "0.8157894736842105"
      ]
     },
     "execution_count": 17,
     "metadata": {},
     "output_type": "execute_result"
    }
   ],
   "source": [
    "%%time\n",
    "\n",
    "parameters = {\n",
    "    'max_depth': [2,4,5,6,7],\n",
    "    'min_samples_leaf': [1,2,3],\n",
    "    'min_weight_fraction_leaf': [0, 0.1],\n",
    "    'min_impurity_decrease': [0, 0.1, 0.2]\n",
    "}\n",
    "\n",
    "clf = RandomizedSearchCV(\n",
    "    RandomForestClassifier(random_state=0),\n",
    "    parameters, refit=True, verbose=1, n_iter=10,\n",
    ")\n",
    "clf.fit(x_train, y_train)\n",
    "clf.best_estimator_.score(x_test, y_test)"
   ]
  },
  {
   "cell_type": "code",
   "execution_count": 22,
   "id": "8abaa9c0-6a4f-4164-9309-138adc8b0331",
   "metadata": {
    "execution": {
     "iopub.execute_input": "2022-10-18T06:22:03.468340Z",
     "iopub.status.busy": "2022-10-18T06:22:03.467773Z",
     "iopub.status.idle": "2022-10-18T06:22:21.817433Z",
     "shell.execute_reply": "2022-10-18T06:22:21.816978Z",
     "shell.execute_reply.started": "2022-10-18T06:22:03.468290Z"
    },
    "tags": []
   },
   "outputs": [
    {
     "name": "stdout",
     "output_type": "stream",
     "text": [
      "Fitting 5 folds for each of 40 candidates, totalling 200 fits\n",
      "CPU times: user 18.3 s, sys: 43.8 ms, total: 18.3 s\n",
      "Wall time: 18.3 s\n"
     ]
    },
    {
     "data": {
      "text/plain": [
       "0.8157894736842105"
      ]
     },
     "execution_count": 22,
     "metadata": {},
     "output_type": "execute_result"
    }
   ],
   "source": [
    "%%time\n",
    "\n",
    "clf = RandomizedSearchCV(\n",
    "    RandomForestClassifier(random_state=0),\n",
    "    parameters, refit=True, verbose=1, n_iter=40,\n",
    ")\n",
    "clf.fit(x_train, y_train)\n",
    "clf.best_estimator_.score(x_test, y_test)"
   ]
  },
  {
   "cell_type": "code",
   "execution_count": 23,
   "id": "e408c2dd-00b9-4514-b3d5-a6bd308accfa",
   "metadata": {
    "execution": {
     "iopub.execute_input": "2022-10-18T06:22:28.058658Z",
     "iopub.status.busy": "2022-10-18T06:22:28.057887Z",
     "iopub.status.idle": "2022-10-18T06:22:55.429953Z",
     "shell.execute_reply": "2022-10-18T06:22:55.429501Z",
     "shell.execute_reply.started": "2022-10-18T06:22:28.058578Z"
    },
    "tags": []
   },
   "outputs": [
    {
     "name": "stdout",
     "output_type": "stream",
     "text": [
      "Fitting 5 folds for each of 60 candidates, totalling 300 fits\n",
      "CPU times: user 27.3 s, sys: 67.9 ms, total: 27.4 s\n",
      "Wall time: 27.4 s\n"
     ]
    },
    {
     "data": {
      "text/plain": [
       "0.8157894736842105"
      ]
     },
     "execution_count": 23,
     "metadata": {},
     "output_type": "execute_result"
    }
   ],
   "source": [
    "%%time\n",
    "\n",
    "clf = RandomizedSearchCV(\n",
    "    RandomForestClassifier(random_state=0),\n",
    "    parameters, refit=True, verbose=1, n_iter=60,\n",
    ")\n",
    "clf.fit(x_train, y_train)\n",
    "clf.best_estimator_.score(x_test, y_test)"
   ]
  },
  {
   "cell_type": "markdown",
   "id": "fbcb1f04-5ee4-4413-ab6c-16f450509c82",
   "metadata": {},
   "source": [
    "# HalvingGridSearchCV"
   ]
  },
  {
   "cell_type": "code",
   "execution_count": 24,
   "id": "99f1dd60-f419-4c67-bae7-5e82c9f5083c",
   "metadata": {
    "execution": {
     "iopub.execute_input": "2022-10-18T06:23:03.005716Z",
     "iopub.status.busy": "2022-10-18T06:23:03.005118Z",
     "iopub.status.idle": "2022-10-18T06:24:04.250217Z",
     "shell.execute_reply": "2022-10-18T06:24:04.249695Z",
     "shell.execute_reply.started": "2022-10-18T06:23:03.005663Z"
    },
    "tags": []
   },
   "outputs": [
    {
     "name": "stdout",
     "output_type": "stream",
     "text": [
      "n_iterations: 3\n",
      "n_required_iterations: 5\n",
      "n_possible_iterations: 3\n",
      "min_resources_: 20\n",
      "max_resources_: 227\n",
      "aggressive_elimination: False\n",
      "factor: 3\n",
      "----------\n",
      "iter: 0\n",
      "n_candidates: 90\n",
      "n_resources: 20\n",
      "Fitting 5 folds for each of 90 candidates, totalling 450 fits\n",
      "----------\n",
      "iter: 1\n",
      "n_candidates: 30\n",
      "n_resources: 60\n",
      "Fitting 5 folds for each of 30 candidates, totalling 150 fits\n",
      "----------\n",
      "iter: 2\n",
      "n_candidates: 10\n",
      "n_resources: 180\n",
      "Fitting 5 folds for each of 10 candidates, totalling 50 fits\n",
      "CPU times: user 1min 1s, sys: 75.9 ms, total: 1min 1s\n",
      "Wall time: 1min 1s\n"
     ]
    },
    {
     "data": {
      "text/plain": [
       "0.8552631578947368"
      ]
     },
     "execution_count": 24,
     "metadata": {},
     "output_type": "execute_result"
    }
   ],
   "source": [
    "%%time\n",
    "\n",
    "parameters = {\n",
    "    'max_depth': [2,4,5,6,7],\n",
    "    'min_samples_leaf': [1,2,3],\n",
    "    'min_weight_fraction_leaf': [0, 0.1],\n",
    "    'min_impurity_decrease': [0, 0.1, 0.2]\n",
    "}\n",
    "\n",
    "clf = HalvingGridSearchCV(\n",
    "    RandomForestClassifier(random_state=0),\n",
    "    parameters, refit=True, verbose=1,\n",
    ")\n",
    "clf.fit(x_train, y_train)\n",
    "clf.best_estimator_.score(x_test, y_test)"
   ]
  },
  {
   "cell_type": "markdown",
   "id": "d7e74769-4c38-48cd-94ee-da21261bd126",
   "metadata": {},
   "source": [
    "# HalvingRandomSearchCV"
   ]
  },
  {
   "cell_type": "code",
   "execution_count": 25,
   "id": "814b493d-ae5f-4491-8498-a626d63334c2",
   "metadata": {
    "execution": {
     "iopub.execute_input": "2022-10-18T06:24:14.004651Z",
     "iopub.status.busy": "2022-10-18T06:24:14.004173Z",
     "iopub.status.idle": "2022-10-18T06:24:22.211121Z",
     "shell.execute_reply": "2022-10-18T06:24:22.210741Z",
     "shell.execute_reply.started": "2022-10-18T06:24:14.004612Z"
    },
    "tags": []
   },
   "outputs": [
    {
     "name": "stdout",
     "output_type": "stream",
     "text": [
      "n_iterations: 3\n",
      "n_required_iterations: 3\n",
      "n_possible_iterations: 3\n",
      "min_resources_: 20\n",
      "max_resources_: 227\n",
      "aggressive_elimination: False\n",
      "factor: 3\n",
      "----------\n",
      "iter: 0\n",
      "n_candidates: 11\n",
      "n_resources: 20\n",
      "Fitting 5 folds for each of 11 candidates, totalling 55 fits\n",
      "----------\n",
      "iter: 1\n",
      "n_candidates: 4\n",
      "n_resources: 60\n",
      "Fitting 5 folds for each of 4 candidates, totalling 20 fits\n",
      "----------\n",
      "iter: 2\n",
      "n_candidates: 2\n",
      "n_resources: 180\n",
      "Fitting 5 folds for each of 2 candidates, totalling 10 fits\n",
      "CPU times: user 8.19 s, sys: 16 ms, total: 8.21 s\n",
      "Wall time: 8.2 s\n"
     ]
    },
    {
     "data": {
      "text/plain": [
       "0.8289473684210527"
      ]
     },
     "execution_count": 25,
     "metadata": {},
     "output_type": "execute_result"
    }
   ],
   "source": [
    "%%time\n",
    "\n",
    "parameters = {\n",
    "    'max_depth': [2,4,5,6,7],\n",
    "    'min_samples_leaf': [1,2,3],\n",
    "    'min_weight_fraction_leaf': [0, 0.1],\n",
    "    'min_impurity_decrease': [0, 0.1, 0.2]\n",
    "}\n",
    "\n",
    "clf = HalvingRandomSearchCV(\n",
    "    RandomForestClassifier(random_state=0),\n",
    "    parameters, refit=True, verbose=1,\n",
    ")\n",
    "clf.fit(x_train, y_train)\n",
    "clf.best_estimator_.score(x_test, y_test)"
   ]
  },
  {
   "cell_type": "code",
   "execution_count": null,
   "id": "cedceccb-047f-4c4a-83d5-e4b956adcbb9",
   "metadata": {},
   "outputs": [],
   "source": []
  }
 ],
 "metadata": {
  "kernelspec": {
   "display_name": "Python 3 (ipykernel)",
   "language": "python",
   "name": "python3.10"
  },
  "language_info": {
   "codemirror_mode": {
    "name": "ipython",
    "version": 3
   },
   "file_extension": ".py",
   "mimetype": "text/x-python",
   "name": "python",
   "nbconvert_exporter": "python",
   "pygments_lexer": "ipython3",
   "version": "3.9.10"
  },
  "widgets": {
   "application/vnd.jupyter.widget-state+json": {
    "state": {},
    "version_major": 2,
    "version_minor": 0
   }
  }
 },
 "nbformat": 4,
 "nbformat_minor": 5
}
